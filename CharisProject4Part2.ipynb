{
 "cells": [
  {
   "cell_type": "markdown",
   "metadata": {},
   "source": [
    "# Charis Project 4 Part 3: Latent Dirichlet Allocation\n",
    "LDA is used to classify text in a document to a particular topic. It builds a topic per document model and words per topic model, modeled as Dirichlet distributions. \n",
    "\n",
    "* Each job description is modeled as a multinomial distribution of job title and each job title is modeled as a multinomial distribution of words.\n",
    "* LDA assumes that the every chunk of text we feed into it will contain words that are somehow related. Therefore choosing the right corpus of data is crucial. \n",
    "* It also assumes documents are produced from a mixture of topics. Those topics then generate words based on their probability distribution."
   ]
  },
  {
   "cell_type": "code",
   "execution_count": 128,
   "metadata": {},
   "outputs": [],
   "source": [
    "import json\n",
    "import pandas as pd"
   ]
  },
  {
   "cell_type": "markdown",
   "metadata": {},
   "source": [
    "## Step 1: Load the dataset\n",
    "\n",
    "The dataset we'll use is a list of job descriptions, start by loading the text file."
   ]
  },
  {
   "cell_type": "code",
   "execution_count": 129,
   "metadata": {},
   "outputs": [],
   "source": [
    "# Load the dataset from previous section (in a separate jupyter notebook) and save it to 'data_text'\n",
    "\n",
    "import json\n",
    "with open('data0.txt') as json_file:  \n",
    "    data = json.load(json_file)\n",
    "\n",
    "data_text = pd.DataFrame.from_dict(data).T.description\n",
    "documents=data_text\n",
    "nrows = documents.shape[0]"
   ]
  },
  {
   "cell_type": "code",
   "execution_count": 130,
   "metadata": {},
   "outputs": [
    {
     "data": {
      "text/plain": [
       "0    Be part of a great team culture in the analyti...\n",
       "1    Flexible work arrangements to meet your needs\\...\n",
       "2    Job Title: Technical Applications Specialist /...\n",
       "3    Federal Government - baseline preferred\\nASAP ...\n",
       "4    The Opportunity\\n\\nDo you have what it takes t...\n",
       "Name: description, dtype: object"
      ]
     },
     "execution_count": 130,
     "metadata": {},
     "output_type": "execute_result"
    }
   ],
   "source": [
    "documents.head()"
   ]
  },
  {
   "cell_type": "markdown",
   "metadata": {},
   "source": [
    "Let's glance at the dataset:"
   ]
  },
  {
   "cell_type": "code",
   "execution_count": 131,
   "metadata": {},
   "outputs": [
    {
     "name": "stdout",
     "output_type": "stream",
     "text": [
      "34772\n"
     ]
    }
   ],
   "source": [
    "'''\n",
    "Get the total number of documents\n",
    "'''\n",
    "print(len(documents))"
   ]
  },
  {
   "cell_type": "markdown",
   "metadata": {},
   "source": [
    "## Step 2: Data Preprocessing ##\n",
    "\n",
    "We will perform the following steps:\n",
    "\n",
    "* **Tokenization**: Split the text into sentences and the sentences into words. Lowercase the words and remove punctuation.\n",
    "* Words that have fewer than 3 characters are removed.\n",
    "* All **stopwords** are removed.\n",
    "* Words are **lemmatized** - words in third person are changed to first person and verbs in past and future tenses are changed into present.\n",
    "* Words are **stemmed** - words are reduced to their root form.\n"
   ]
  },
  {
   "cell_type": "code",
   "execution_count": 132,
   "metadata": {},
   "outputs": [
    {
     "data": {
      "text/plain": [
       "'\\nLoading Gensim and nltk libraries\\n'"
      ]
     },
     "execution_count": 132,
     "metadata": {},
     "output_type": "execute_result"
    }
   ],
   "source": [
    "# Loading Gensim and nltk libraries\n",
    "# import sys\n",
    "# !{sys.executable} -m pip install nltk numpy tqdm gensim"
   ]
  },
  {
   "cell_type": "code",
   "execution_count": 133,
   "metadata": {},
   "outputs": [],
   "source": [
    "import gensim\n",
    "from gensim.utils import simple_preprocess\n",
    "from gensim.parsing.preprocessing import STOPWORDS\n",
    "from nltk.stem import WordNetLemmatizer, SnowballStemmer\n",
    "from nltk.stem.porter import *\n",
    "from nltk.stem.snowball import SnowballStemmer\n",
    "import numpy as np\n",
    "np.random.seed(400)"
   ]
  },
  {
   "cell_type": "code",
   "execution_count": 134,
   "metadata": {},
   "outputs": [
    {
     "name": "stderr",
     "output_type": "stream",
     "text": [
      "[nltk_data] Downloading package wordnet to C:\\nltk_data...\n",
      "[nltk_data]   Package wordnet is already up-to-date!\n"
     ]
    },
    {
     "data": {
      "text/plain": [
       "True"
      ]
     },
     "execution_count": 134,
     "metadata": {},
     "output_type": "execute_result"
    }
   ],
   "source": [
    "import nltk\n",
    "nltk.download('wordnet')"
   ]
  },
  {
   "cell_type": "code",
   "execution_count": 135,
   "metadata": {},
   "outputs": [],
   "source": [
    "'''\n",
    "Write a function to perform the pre processing steps on the entire dataset\n",
    "'''\n",
    "def lemmatize_stemming(text):\n",
    "    return (WordNetLemmatizer().lemmatize(text, pos='v'))\n",
    "\n",
    "# Tokenize and lemmatize\n",
    "def preprocess(text):\n",
    "    result=[]\n",
    "    for token in gensim.utils.simple_preprocess(text) :\n",
    "        if token not in gensim.parsing.preprocessing.STOPWORDS and len(token) > 3:\n",
    "            # Apply lemmatize_stemming on the token, then add to the results list\n",
    "            result.append(lemmatize_stemming(token))\n",
    "    return result"
   ]
  },
  {
   "cell_type": "code",
   "execution_count": 136,
   "metadata": {},
   "outputs": [
    {
     "name": "stdout",
     "output_type": "stream",
     "text": [
      "Original document: \n",
      "['Federal', 'Government', '-', 'baseline', 'preferred\\nASAP', 'Start\\nR,', 'Hadoop,', 'Teradata,', 'Shiny\\nWe', 'are', 'looking', 'for', 'a', 'creative,', 'innovative', 'and', 'intellectually', 'curious', 'and', 'entrepreneurial', 'Data', 'Scientist', 'to', 'join', 'the', 'Analytics', 'team', 'within', 'a', 'Federal', 'Government', 'Agency.\\n\\nResponsibilities:\\n\\nIdentify', 'valuable', 'data', 'sources', 'and', 'automate', 'collection', 'processes\\nUndertake', 'pre-processing', 'of', 'structured', 'and', 'unstructured', 'data\\nAnalyse', 'large', 'amounts', 'of', 'information', 'to', 'discover', 'trends', 'and', 'patterns\\nBuild', 'predictive', 'models', 'and', 'machine-learning', 'algorithms\\nCombine', 'models', 'through', 'ensemble', 'modelling\\nPresent', 'information', 'using', 'data', 'visualization', 'techniques\\nPropose', 'solutions', 'and', 'strategies', 'to', 'business', 'challenges\\nCollaborate', 'with', 'engineering', 'and', 'product', 'development', 'teams\\nExperience', 'Required:\\n\\nExperience', 'of', 'statistical', '/', 'machine', 'learning', 'projects\\nCommercial', 'experience', 'with', 'Data', 'Science', 'principles\\nPossess', 'strong', 'statistical', 'modelling', 'skills', 'and', 'be', 'able', 'to', 'synthesise', 'big', 'data\\nHave', 'a', 'minimum', 'of', '3', 'years', 'experience', 'using', 'Hadoop/Spark/R/Python\\nDesire', 'to', 'enhance', 'pre-existing', 'skills', 'in', 'areas', 'such', 'as', 'machine', 'learning', 'and', 'quantitative', 'decision', 'making\\nBe', 'a', 'strong', 'and', 'confident', 'communicator', 'who', 'can', 'simplify', 'complex', 'models', 'to', 'stakeholders\\nHave', 'motivation', 'to', 'continually', 'learn', 'new', 'skills', 'both', 'for', 'personal', 'advantage', 'and', 'to', 'add', 'value', 'to', 'the', 'company\\nWork', 'collaboratively', 'and', 'efficiently', 'in', 'a', 'tight-knit', 'team']\n",
      "\n",
      "\n",
      "Tokenized and lemmatized document: \n",
      "['federal', 'government', 'baseline', 'prefer', 'asap', 'start', 'hadoop', 'teradata', 'shiny', 'look', 'creative', 'innovative', 'intellectually', 'curious', 'entrepreneurial', 'data', 'scientist', 'join', 'analytics', 'team', 'federal', 'government', 'agency', 'identify', 'valuable', 'data', 'source', 'automate', 'collection', 'process', 'undertake', 'process', 'structure', 'unstructured', 'data', 'analyse', 'large', 'amount', 'information', 'discover', 'trend', 'pattern', 'build', 'predictive', 'model', 'machine', 'learn', 'algorithms', 'combine', 'model', 'ensemble', 'model', 'present', 'information', 'data', 'visualization', 'techniques', 'propose', 'solutions', 'strategies', 'business', 'challenge', 'collaborate', 'engineer', 'product', 'development', 'team', 'experience', 'require', 'experience', 'statistical', 'machine', 'learn', 'project', 'commercial', 'experience', 'data', 'science', 'principles', 'possess', 'strong', 'statistical', 'model', 'skills', 'able', 'synthesise', 'data', 'minimum', 'years', 'experience', 'hadoop', 'spark', 'python', 'desire', 'enhance', 'exist', 'skills', 'areas', 'machine', 'learn', 'quantitative', 'decision', 'make', 'strong', 'confident', 'communicator', 'simplify', 'complex', 'model', 'stakeholders', 'motivation', 'continually', 'learn', 'skills', 'personal', 'advantage', 'value', 'company', 'work', 'collaboratively', 'efficiently', 'tight', 'knit', 'team']\n"
     ]
    }
   ],
   "source": [
    "# Preview a document after preprocessing\n",
    "document_num = 3  #taking the document at index 3 as sample for demonstration\n",
    "doc_sample = documents[document_num]\n",
    "\n",
    "print(\"Original document: \")\n",
    "words = []\n",
    "for word in doc_sample.split(' '):\n",
    "    words.append(word)\n",
    "print(words)\n",
    "print(\"\\n\\nTokenized and lemmatized document: \")\n",
    "print(preprocess(doc_sample))"
   ]
  },
  {
   "cell_type": "markdown",
   "metadata": {},
   "source": [
    "Let's now preprocess all the job descriptions we have. To do that, let's use the [map](https://pandas.pydata.org/pandas-docs/stable/generated/pandas.Series.map.html) function from pandas to apply `preprocess()` to the `title` column"
   ]
  },
  {
   "cell_type": "code",
   "execution_count": 138,
   "metadata": {},
   "outputs": [],
   "source": [
    "# preprocess all the job descriptions, saving the list of results as 'processed_docs'\n",
    "processed_docs = documents.map(preprocess)"
   ]
  },
  {
   "cell_type": "code",
   "execution_count": 161,
   "metadata": {},
   "outputs": [
    {
     "data": {
      "text/plain": [
       "0    [great, team, culture, analytics, space, fanta...\n",
       "1    [flexible, work, arrangements, meet, need, wor...\n",
       "2    [title, technical, applications, specialist, f...\n",
       "3    [federal, government, baseline, prefer, asap, ...\n",
       "4    [opportunity, take, initiative, faculty, infor...\n",
       "5    [work, type, fix, term, location, parkville, d...\n",
       "6    [opportunity, immerse, inclusive, culture, ski...\n",
       "7    [post, applications, close, midnight, days, re...\n",
       "8    [deliver, components, design, implementation, ...\n",
       "9    [flexible, work, arrangements, meet, need, wor...\n",
       "Name: description, dtype: object"
      ]
     },
     "execution_count": 161,
     "metadata": {},
     "output_type": "execute_result"
    }
   ],
   "source": [
    "#Preview 'processed_docs', remember processed_docs is a pandas series\n",
    "processed_docs[:10]"
   ]
  },
  {
   "cell_type": "markdown",
   "metadata": {},
   "source": [
    "## Step 3.1: Bag of words on the dataset\n",
    "\n",
    "Now let's create a dictionary from 'processed_docs' containing the number of times a word appears in the training set. To do that, let's pass `processed_docs` to [`gensim.corpora.Dictionary()`](https://radimrehurek.com/gensim/corpora/dictionary.html) and call it '`dictionary`'."
   ]
  },
  {
   "cell_type": "code",
   "execution_count": 141,
   "metadata": {},
   "outputs": [],
   "source": [
    "'''\n",
    "Create a dictionary from 'processed_docs' containing the number of times a word appears \n",
    "in the training set using gensim.corpora.Dictionary and call it 'dictionary'\n",
    "'''\n",
    "dictionary = gensim.corpora.Dictionary(processed_docs)"
   ]
  },
  {
   "cell_type": "code",
   "execution_count": 142,
   "metadata": {},
   "outputs": [
    {
     "data": {
      "text/plain": [
       "'actionable'"
      ]
     },
     "execution_count": 142,
     "metadata": {},
     "output_type": "execute_result"
    }
   ],
   "source": [
    "dictionary[4] "
   ]
  },
  {
   "cell_type": "code",
   "execution_count": 143,
   "metadata": {},
   "outputs": [
    {
     "name": "stdout",
     "output_type": "stream",
     "text": [
      "0 ability\n",
      "1 acquire\n",
      "2 acquisition\n",
      "3 act\n",
      "4 actionable\n",
      "5 actively\n",
      "6 add\n",
      "7 advantage\n",
      "8 alignment\n",
      "9 amazon\n",
      "10 analyse\n"
     ]
    }
   ],
   "source": [
    "# Checking dictionary created\n",
    "count = 0\n",
    "for k, v in dictionary.iteritems():\n",
    "    print(k, v)\n",
    "    count += 1\n",
    "    if count > 10:\n",
    "        break"
   ]
  },
  {
   "cell_type": "markdown",
   "metadata": {},
   "source": [
    "### Gensim filter_extremes\n",
    "\n",
    "[`filter_extremes(no_below=5, no_above=0.5, keep_n=100000)`](https://radimrehurek.com/gensim/corpora/dictionary.html#gensim.corpora.dictionary.Dictionary.filter_extremes)\n",
    "\n",
    "Filter out tokens that appear in\n",
    "\n",
    "* less than no_below documents (absolute number) or\n",
    "* more than no_above documents (fraction of total corpus size, not absolute number).\n",
    "* after (1) and (2), keep only the first keep_n most frequent tokens (or keep all if None)."
   ]
  },
  {
   "cell_type": "code",
   "execution_count": 145,
   "metadata": {},
   "outputs": [
    {
     "data": {
      "text/plain": [
       "'\\nOPTIONAL STEP\\nRemove very rare and very common words:\\n\\n- words appearing less than 15 times\\n- words appearing in more than 10% of all documents\\n'"
      ]
     },
     "execution_count": 145,
     "metadata": {},
     "output_type": "execute_result"
    }
   ],
   "source": [
    "'''\n",
    "OPTIONAL STEP\n",
    "Remove very rare and very common words:\n",
    "\n",
    "- words appearing less than 15 times\n",
    "- words appearing in more than 10% of all documents\n",
    "'''\n",
    "# dictionary.filter_extremes(no_below=15, no_above=0.1, keep_n=100000)"
   ]
  },
  {
   "cell_type": "markdown",
   "metadata": {},
   "source": [
    "### Gensim doc2bow\n",
    "\n",
    "[`doc2bow(document)`](https://radimrehurek.com/gensim/corpora/dictionary.html#gensim.corpora.dictionary.Dictionary.doc2bow)\n",
    "\n",
    "* Convert document (it's a pandas series) into the bag-of-words list of tuples (token_id, token_count). Each word is assumed to be a tokenized and normalized string (either unicode or utf8-encoded). No further preprocessing is done on the words in document; apply tokenization, stemming etc. before calling this method."
   ]
  },
  {
   "cell_type": "code",
   "execution_count": 146,
   "metadata": {},
   "outputs": [],
   "source": [
    "# Create the Bag-of-words model for each document i.e for each document we create a dictionary reporting how many words and how many times those words appear. Save this to 'bow_corpus'\n",
    "bow_corpus = {}\n",
    "bow_corpus = processed_docs.apply(dictionary.doc2bow)"
   ]
  },
  {
   "cell_type": "code",
   "execution_count": 148,
   "metadata": {},
   "outputs": [
    {
     "data": {
      "text/plain": [
       "[(7, 1),\n",
       " (10, 1),\n",
       " (14, 1),\n",
       " (30, 1),\n",
       " (32, 1),\n",
       " (40, 1),\n",
       " (43, 1),\n",
       " (46, 1),\n",
       " (57, 1),\n",
       " (65, 6),\n",
       " (82, 1),\n",
       " (87, 4),\n",
       " (115, 1),\n",
       " (135, 1),\n",
       " (136, 4),\n",
       " (146, 1),\n",
       " (191, 1),\n",
       " (194, 1),\n",
       " (213, 1),\n",
       " (221, 3),\n",
       " (227, 1),\n",
       " (231, 2),\n",
       " (238, 3),\n",
       " (243, 1),\n",
       " (250, 1),\n",
       " (259, 1),\n",
       " (266, 1),\n",
       " (280, 1),\n",
       " (287, 1),\n",
       " (340, 1),\n",
       " (345, 1),\n",
       " (349, 3),\n",
       " (355, 1),\n",
       " (356, 5),\n",
       " (370, 1),\n",
       " (372, 1),\n",
       " (374, 2),\n",
       " (378, 1),\n",
       " (381, 1),\n",
       " (401, 1),\n",
       " (403, 1),\n",
       " (406, 2),\n",
       " (411, 1),\n",
       " (422, 1),\n",
       " (423, 1),\n",
       " (429, 1),\n",
       " (438, 1),\n",
       " (440, 1),\n",
       " (455, 1),\n",
       " (464, 1),\n",
       " (489, 1),\n",
       " (523, 1),\n",
       " (553, 1),\n",
       " (554, 1),\n",
       " (555, 1),\n",
       " (556, 1),\n",
       " (557, 1),\n",
       " (558, 1),\n",
       " (559, 1),\n",
       " (560, 1),\n",
       " (561, 1),\n",
       " (562, 1),\n",
       " (563, 1),\n",
       " (564, 1),\n",
       " (565, 1),\n",
       " (566, 1),\n",
       " (567, 1),\n",
       " (568, 1),\n",
       " (569, 1),\n",
       " (570, 2),\n",
       " (571, 2),\n",
       " (572, 2),\n",
       " (573, 2),\n",
       " (574, 1),\n",
       " (575, 1),\n",
       " (576, 1),\n",
       " (577, 1),\n",
       " (578, 1),\n",
       " (579, 1),\n",
       " (580, 1),\n",
       " (581, 1),\n",
       " (582, 1),\n",
       " (583, 1),\n",
       " (584, 1),\n",
       " (585, 1),\n",
       " (586, 1),\n",
       " (587, 1),\n",
       " (588, 1),\n",
       " (589, 1),\n",
       " (590, 1),\n",
       " (591, 1),\n",
       " (592, 1),\n",
       " (593, 1),\n",
       " (594, 1),\n",
       " (595, 1),\n",
       " (596, 1)]"
      ]
     },
     "execution_count": 148,
     "metadata": {},
     "output_type": "execute_result"
    }
   ],
   "source": [
    "# Checking Bag of Words corpus for sample document (document_num=3)\n",
    "bow_corpus[document_num] # --> Format is (token_id, token_count)"
   ]
  },
  {
   "cell_type": "code",
   "execution_count": 149,
   "metadata": {},
   "outputs": [
    {
     "name": "stdout",
     "output_type": "stream",
     "text": [
      "Word \"advantage\" with token_id 7 appears 1 time.\n",
      "Word \"analyse\" with token_id 10 appears 1 time.\n",
      "Word \"analytics\" with token_id 14 appears 1 time.\n",
      "Word \"build\" with token_id 30 appears 1 time.\n",
      "Word \"business\" with token_id 32 appears 1 time.\n",
      "Word \"collaborate\" with token_id 40 appears 1 time.\n",
      "Word \"company\" with token_id 43 appears 1 time.\n",
      "Word \"complex\" with token_id 46 appears 1 time.\n",
      "Word \"creative\" with token_id 57 appears 1 time.\n",
      "Word \"data\" with token_id 65 appears 6 time.\n",
      "Word \"engineer\" with token_id 82 appears 1 time.\n",
      "Word \"experience\" with token_id 87 appears 4 time.\n",
      "Word \"identify\" with token_id 115 appears 1 time.\n",
      "Word \"large\" with token_id 135 appears 1 time.\n",
      "Word \"learn\" with token_id 136 appears 4 time.\n",
      "Word \"look\" with token_id 146 appears 1 time.\n",
      "Word \"product\" with token_id 191 appears 1 time.\n",
      "Word \"quantitative\" with token_id 194 appears 1 time.\n",
      "Word \"science\" with token_id 213 appears 1 time.\n",
      "Word \"skills\" with token_id 221 appears 3 time.\n",
      "Word \"stakeholders\" with token_id 227 appears 1 time.\n",
      "Word \"strong\" with token_id 231 appears 2 time.\n",
      "Word \"team\" with token_id 238 appears 3 time.\n",
      "Word \"trend\" with token_id 243 appears 1 time.\n",
      "Word \"value\" with token_id 250 appears 1 time.\n",
      "Word \"work\" with token_id 259 appears 1 time.\n",
      "Word \"algorithms\" with token_id 266 appears 1 time.\n",
      "Word \"challenge\" with token_id 280 appears 1 time.\n",
      "Word \"combine\" with token_id 287 appears 1 time.\n",
      "Word \"innovative\" with token_id 340 appears 1 time.\n",
      "Word \"join\" with token_id 345 appears 1 time.\n",
      "Word \"machine\" with token_id 349 appears 3 time.\n",
      "Word \"minimum\" with token_id 355 appears 1 time.\n",
      "Word \"model\" with token_id 356 appears 5 time.\n",
      "Word \"prefer\" with token_id 370 appears 1 time.\n",
      "Word \"principles\" with token_id 372 appears 1 time.\n",
      "Word \"process\" with token_id 374 appears 2 time.\n",
      "Word \"project\" with token_id 378 appears 1 time.\n",
      "Word \"python\" with token_id 381 appears 1 time.\n",
      "Word \"solutions\" with token_id 401 appears 1 time.\n",
      "Word \"spark\" with token_id 403 appears 1 time.\n",
      "Word \"statistical\" with token_id 406 appears 2 time.\n",
      "Word \"techniques\" with token_id 411 appears 1 time.\n",
      "Word \"years\" with token_id 422 appears 1 time.\n",
      "Word \"able\" with token_id 423 appears 1 time.\n",
      "Word \"areas\" with token_id 429 appears 1 time.\n",
      "Word \"collaboratively\" with token_id 438 appears 1 time.\n",
      "Word \"commercial\" with token_id 440 appears 1 time.\n",
      "Word \"development\" with token_id 455 appears 1 time.\n",
      "Word \"exist\" with token_id 464 appears 1 time.\n",
      "Word \"make\" with token_id 489 appears 1 time.\n",
      "Word \"require\" with token_id 523 appears 1 time.\n",
      "Word \"agency\" with token_id 553 appears 1 time.\n",
      "Word \"amount\" with token_id 554 appears 1 time.\n",
      "Word \"asap\" with token_id 555 appears 1 time.\n",
      "Word \"automate\" with token_id 556 appears 1 time.\n",
      "Word \"baseline\" with token_id 557 appears 1 time.\n",
      "Word \"collection\" with token_id 558 appears 1 time.\n",
      "Word \"communicator\" with token_id 559 appears 1 time.\n",
      "Word \"confident\" with token_id 560 appears 1 time.\n",
      "Word \"continually\" with token_id 561 appears 1 time.\n",
      "Word \"curious\" with token_id 562 appears 1 time.\n",
      "Word \"decision\" with token_id 563 appears 1 time.\n",
      "Word \"desire\" with token_id 564 appears 1 time.\n",
      "Word \"discover\" with token_id 565 appears 1 time.\n",
      "Word \"efficiently\" with token_id 566 appears 1 time.\n",
      "Word \"enhance\" with token_id 567 appears 1 time.\n",
      "Word \"ensemble\" with token_id 568 appears 1 time.\n",
      "Word \"entrepreneurial\" with token_id 569 appears 1 time.\n",
      "Word \"federal\" with token_id 570 appears 2 time.\n",
      "Word \"government\" with token_id 571 appears 2 time.\n",
      "Word \"hadoop\" with token_id 572 appears 2 time.\n",
      "Word \"information\" with token_id 573 appears 2 time.\n",
      "Word \"intellectually\" with token_id 574 appears 1 time.\n",
      "Word \"knit\" with token_id 575 appears 1 time.\n",
      "Word \"motivation\" with token_id 576 appears 1 time.\n",
      "Word \"pattern\" with token_id 577 appears 1 time.\n",
      "Word \"personal\" with token_id 578 appears 1 time.\n",
      "Word \"possess\" with token_id 579 appears 1 time.\n",
      "Word \"predictive\" with token_id 580 appears 1 time.\n",
      "Word \"present\" with token_id 581 appears 1 time.\n",
      "Word \"propose\" with token_id 582 appears 1 time.\n",
      "Word \"scientist\" with token_id 583 appears 1 time.\n",
      "Word \"shiny\" with token_id 584 appears 1 time.\n",
      "Word \"simplify\" with token_id 585 appears 1 time.\n",
      "Word \"source\" with token_id 586 appears 1 time.\n",
      "Word \"start\" with token_id 587 appears 1 time.\n",
      "Word \"strategies\" with token_id 588 appears 1 time.\n",
      "Word \"structure\" with token_id 589 appears 1 time.\n",
      "Word \"synthesise\" with token_id 590 appears 1 time.\n",
      "Word \"teradata\" with token_id 591 appears 1 time.\n",
      "Word \"tight\" with token_id 592 appears 1 time.\n",
      "Word \"undertake\" with token_id 593 appears 1 time.\n",
      "Word \"unstructured\" with token_id 594 appears 1 time.\n",
      "Word \"valuable\" with token_id 595 appears 1 time.\n",
      "Word \"visualization\" with token_id 596 appears 1 time.\n"
     ]
    }
   ],
   "source": [
    "# Preview BOW for our sample preprocessed document. Here document_num is document number 3 which we have checked in Step 2.\n",
    "for i,a in bow_corpus[document_num]: # Remember that bow_doc_3 is a list\n",
    "    print(\"Word \\\"{}\\\" with token_id {} appears {} time.\".format(dictionary[i], i, a))"
   ]
  },
  {
   "cell_type": "markdown",
   "metadata": {},
   "source": [
    "## Step 3.2: TF-IDF on our document set ##\n",
    "\n",
    "While performing TF-IDF on the corpus is not necessary for LDA implemention using the gensim model, it is recemmended. TF-IDF expects a bag-of-words (integer values) training corpus during initialization. During transformation, it will take a vector and return another vector of the same dimensionality.\n",
    "\n",
    "*Please note: The author of Gensim dictates the standard procedure for LDA to be using the Bag of Words model.*"
   ]
  },
  {
   "cell_type": "markdown",
   "metadata": {},
   "source": [
    "** TF-IDF stands for \"Term Frequency, Inverse Document Frequency\".**\n",
    "\n",
    "* It is a way to score the importance of words (or \"terms\") in a document based on how frequently they appear across multiple documents.\n",
    "* If a word appears frequently in a document, it's important. Give the word a high score. But if a word appears in many documents, it's not a unique identifier. Give the word a low score.\n",
    "* Therefore, common words like \"the\" and \"for\", which appear in many documents, will be scaled down. Words that appear frequently in a single document will be scaled up.\n",
    "\n",
    "In other words:\n",
    "\n",
    "* TF(w) = `(Number of times term w appears in a document) / (Total number of terms in the document)`.\n",
    "* IDF(w) = `log_e(Total number of documents / Number of documents with term w in it)`.\n",
    "\n",
    "** For example **\n",
    "\n",
    "* Consider a document containing `100` words wherein the word 'tiger' appears 3 times. \n",
    "* The term frequency (i.e., tf) for 'tiger' is then: \n",
    "    - `TF = (3 / 100) = 0.03`. \n",
    "\n",
    "* Now, assume we have `10 million` documents and the word 'tiger' appears in `1000` of these. Then, the inverse document frequency (i.e., idf) is calculated as:\n",
    "    - `IDF = log(10,000,000 / 1,000) = 4`. \n",
    "\n",
    "* Thus, the Tf-idf weight is the product of these quantities: \n",
    "    - `TF-IDF = 0.03 * 4 = 0.12`."
   ]
  },
  {
   "cell_type": "code",
   "execution_count": 150,
   "metadata": {},
   "outputs": [],
   "source": [
    "# Create tf-idf model object using models.TfidfModel on 'bow_corpus' and save it to 'tfidf'\n",
    "from gensim import corpora, models\n",
    "tfidf = models.TfidfModel(bow_corpus)"
   ]
  },
  {
   "cell_type": "code",
   "execution_count": 151,
   "metadata": {},
   "outputs": [],
   "source": [
    "# Apply transformation to the entire corpus and call it 'corpus_tfidf'\n",
    "\n",
    "corpus_tfidf = tfidf[bow_corpus]"
   ]
  },
  {
   "cell_type": "code",
   "execution_count": 152,
   "metadata": {},
   "outputs": [
    {
     "name": "stdout",
     "output_type": "stream",
     "text": [
      "[(0, 0.009745921556971626),\n",
      " (1, 0.030252811992231503),\n",
      " (2, 0.031579760699573425),\n",
      " (3, 0.03759869320286057),\n",
      " (4, 0.03170039552236711),\n",
      " (5, 0.03621500746707537),\n",
      " (6, 0.0269366922760234),\n",
      " (7, 0.04348299693072362),\n",
      " (8, 0.033307936883346365),\n",
      " (9, 0.028091253636389965),\n",
      " (10, 0.03788802685483294),\n",
      " (11, 0.02477744094128617),\n",
      " (12, 0.01883091611394919),\n",
      " (13, 0.035214016983874115),\n",
      " (14, 0.04475666066155876),\n",
      " (15, 0.02748677306053997),\n",
      " (16, 0.017070543303190588),\n",
      " (17, 0.0038396691200862417),\n",
      " (18, 0.02928030790314177),\n",
      " (19, 0.0217709695513815),\n",
      " (20, 0.04173395321905053),\n",
      " (21, 0.02829093111383332),\n",
      " (22, 0.037744855847277964),\n",
      " (23, 0.03069999603875983),\n",
      " (24, 0.022611920717976394),\n",
      " (25, 0.012496855220599899),\n",
      " (26, 0.006055004923320923),\n",
      " (27, 0.03654586151571627),\n",
      " (28, 0.019384979408895064),\n",
      " (29, 0.03175365611557208),\n",
      " (30, 0.009382449259523034),\n",
      " (31, 0.03644701659778417),\n",
      " (32, 0.015968046111317892),\n",
      " (33, 0.01901412855979561),\n",
      " (34, 0.017103409817903457),\n",
      " (35, 0.030591287689754474),\n",
      " (36, 0.03348006123521259),\n",
      " (37, 0.04123573381375477),\n",
      " (38, 0.01862216016852878),\n",
      " (39, 0.015303769242553517),\n",
      " (40, 0.014458728467728622),\n",
      " (41, 0.015145557792626566),\n",
      " (42, 0.03293637932989849),\n",
      " (43, 0.030555466178071478),\n",
      " (44, 0.012406825938356897),\n",
      " (45, 0.041984925002105794),\n",
      " (46, 0.009760935015738915),\n",
      " (47, 0.02076583990836774),\n",
      " (48, 0.02697362859300561),\n",
      " (49, 0.042324912597480925),\n",
      " (50, 0.035738198859706805),\n",
      " (51, 0.09587965762660801),\n",
      " (52, 0.03161729569119801),\n",
      " (53, 0.020310697645734357),\n",
      " (54, 0.04044580936677829),\n",
      " (55, 0.021611311633048264),\n",
      " (56, 0.015718413778580194),\n",
      " (57, 0.045177014730755985),\n",
      " (58, 0.038748484498948486),\n",
      " (59, 0.01713143554036577),\n",
      " (60, 0.02975728457676179),\n",
      " (61, 0.017141100957169458),\n",
      " (62, 0.022616331771148038),\n",
      " (63, 0.008530207025597605),\n",
      " (64, 0.0355206936952823),\n",
      " (65, 0.025935892062852118),\n",
      " (66, 0.022780422891465472),\n",
      " (67, 0.019944720473853587),\n",
      " (68, 0.029452646418221984),\n",
      " (69, 0.010132116774259726),\n",
      " (70, 0.01027521523749292),\n",
      " (71, 0.038780273689942336),\n",
      " (72, 0.025446388170422204),\n",
      " (73, 0.035363537385688544),\n",
      " (74, 0.04094040045520172),\n",
      " (75, 0.024570334536277254),\n",
      " (76, 0.05889330332481358),\n",
      " (77, 0.023355075705174054),\n",
      " (78, 0.030734222671856794),\n",
      " (79, 0.01685641498194059),\n",
      " (80, 0.03280090727106585),\n",
      " (81, 0.01586824828348127),\n",
      " (82, 0.0038433655660640494),\n",
      " (83, 0.8629169186394721),\n",
      " (84, 0.01136757905850731),\n",
      " (85, 0.026031675665498136),\n",
      " (86, 0.009867618114483036),\n",
      " (87, 0.0021103335365452148),\n",
      " (88, 0.011431414823852678),\n",
      " (89, 0.05285934175574587),\n",
      " (90, 0.026878572129026702),\n",
      " (91, 0.02071525209511389),\n",
      " (92, 0.04081289238496233),\n",
      " (93, 0.04976043474238141),\n",
      " (94, 0.0355774534765214),\n",
      " (95, 0.023279360832613616),\n",
      " (96, 0.04853974340781774),\n",
      " (97, 0.04269174215047604),\n",
      " (98, 0.015786151938697816),\n",
      " (99, 0.04234801452670409),\n",
      " (100, 0.01156322801178176),\n",
      " (101, 0.013940141837951276),\n",
      " (102, 0.008905163732312772),\n",
      " (103, 0.02886230998222099),\n",
      " (104, 0.04862860584469231),\n",
      " (105, 0.019682388847051),\n",
      " (106, 0.027089983784020156),\n",
      " (107, 0.027809444318844183),\n",
      " (108, 0.021477669404813455),\n",
      " (109, 0.024596768685142448),\n",
      " (110, 0.005175093586546582),\n",
      " (111, 0.041808427730466245),\n",
      " (112, 0.02577118927527665),\n",
      " (113, 0.025795693717302063),\n",
      " (114, 0.04234801452670409),\n",
      " (115, 0.02648115541477407),\n",
      " (116, 0.0036760032296114698),\n",
      " (117, 0.05895332626502874),\n",
      " (118, 0.01649440990137182),\n",
      " (119, 0.01807100142287097),\n",
      " (120, 0.04189626874554221),\n",
      " (121, 0.020051704062357966),\n",
      " (122, 0.03628625635070876),\n",
      " (123, 0.05232046010071773),\n",
      " (124, 0.034864648108614706),\n",
      " (125, 0.03794245358424903),\n",
      " (126, 0.011845721740229192),\n",
      " (127, 0.0263340132065727),\n",
      " (128, 0.013891797802634573),\n",
      " (129, 0.047939828813304004),\n",
      " (130, 0.0381637602327326),\n",
      " (131, 0.02428583223320779),\n",
      " (132, 0.04853974340781774),\n",
      " (133, 0.018453827300370994),\n",
      " (134, 0.04309337845869559),\n",
      " (135, 0.011972830966880295),\n",
      " (136, 0.0049973039326987444),\n",
      " (137, 0.027467267912205304),\n",
      " (138, 0.015328382726372306),\n",
      " (139, 0.016985615843468773),\n",
      " (140, 0.023280076492883103),\n",
      " (141, 0.03707850676526524),\n",
      " (142, 0.02788414384444781),\n",
      " (143, 0.01954111931231345),\n",
      " (144, 0.017395920212176678),\n",
      " (145, 0.048584071297467495),\n",
      " (146, 0.00599512649333768),\n",
      " (147, 0.06587381072225518),\n",
      " (148, 0.04798145259627553),\n",
      " (149, 0.012304679080388693),\n",
      " (150, 0.024479819098401183),\n",
      " (151, 0.017269460289139654),\n",
      " (152, 0.030720517299236107),\n",
      " (153, 0.014077209630447564),\n",
      " (154, 0.04123573381375477),\n",
      " (155, 0.0193455382799305),\n",
      " (156, 0.029262655955258423),\n",
      " (157, 0.016610825956757443),\n",
      " (158, 0.02371986024250885),\n",
      " (159, 0.016995376719397735),\n",
      " (160, 0.048584071297467495),\n",
      " (161, 0.028582061278782888),\n",
      " (162, 0.02922744961413763),\n",
      " (163, 0.01903425634448204),\n",
      " (164, 0.024710622759422457),\n",
      " (165, 0.04862860584469231),\n",
      " (166, 0.009714490798178915),\n",
      " (167, 0.06544917495933006),\n",
      " (168, 0.013589861279141913),\n",
      " (169, 0.04890026329068486),\n",
      " (170, 0.02154032703144328),\n",
      " (171, 0.022876984474691858),\n",
      " (172, 0.06730448005385734),\n",
      " (173, 0.019416577510349243),\n",
      " (174, 0.012681865679250993),\n",
      " (175, 0.02096844604029101),\n",
      " (176, 0.022145845693948365),\n",
      " (177, 0.012351611096043004),\n",
      " (178, 0.021065151104983998),\n",
      " (179, 0.01890020302173041),\n",
      " (180, 0.03580972862447985),\n",
      " (181, 0.018570196433440694),\n",
      " (182, 0.029251381967146613),\n",
      " (183, 0.01482380965474843),\n",
      " (184, 0.040630609319212294),\n",
      " (185, 0.09716814259493499),\n",
      " (186, 0.010707721752558883),\n",
      " (187, 0.03138109245648793),\n",
      " (188, 0.01630024691225777),\n",
      " (189, 0.024842943132403674),\n",
      " (190, 0.02302166852865194),\n",
      " (191, 0.01881757222233142),\n",
      " (192, 0.03128467490257182),\n",
      " (193, 0.0038318702059788835),\n",
      " (194, 0.0366814646720152),\n",
      " (195, 0.021930612394857486),\n",
      " (196, 0.018988025682804572),\n",
      " (197, 0.012652602717384324),\n",
      " (198, 0.03122673602546902),\n",
      " (199, 0.03572662691028684),\n",
      " (200, 0.02412999446921111),\n",
      " (201, 0.01057797958932491),\n",
      " (202, 0.012199671265124928),\n",
      " (203, 0.013521525259241593),\n",
      " (204, 0.01593939072200699),\n",
      " (205, 0.020308394971725853),\n",
      " (206, 0.03104082542721239),\n",
      " (207, 0.024608959311789153),\n",
      " (208, 0.004550811563770532),\n",
      " (209, 0.030450459934163523),\n",
      " (210, 0.029369060257989566),\n",
      " (211, 0.015862464061035086),\n",
      " (212, 0.01888233833336489),\n",
      " (213, 0.008046798291911548),\n",
      " (214, 0.04789838561130353),\n",
      " (215, 0.008130726013508116),\n",
      " (216, 0.00608092194636134),\n",
      " (217, 0.020746536758423778),\n",
      " (218, 0.011307675363649372),\n",
      " (219, 0.04885444716891106),\n",
      " (220, 0.04787236172100131),\n",
      " (221, 0.008920821652761889),\n",
      " (222, 0.02147960058855448),\n",
      " (223, 0.01896599420771589),\n",
      " (224, 0.017708187907249266),\n",
      " (225, 0.02897886454175655),\n",
      " (226, 0.029885084777308783),\n",
      " (227, 0.012379680589026129),\n",
      " (228, 0.022655976029318563),\n",
      " (229, 0.015191264306034817),\n",
      " (230, 0.011655846956043776),\n",
      " (231, 0.014513383660101596),\n",
      " (232, 0.0760901846661139),\n",
      " (233, 0.024992147931816245),\n",
      " (234, 0.010728813929549295),\n",
      " (235, 0.013190475133954719),\n",
      " (236, 0.04781603472993786),\n",
      " (237, 0.03382442175036103),\n",
      " (238, 0.00690613000792491),\n",
      " (239, 0.04785712143017202),\n",
      " (240, 0.02223508043202868),\n",
      " (241, 0.023693571562476277),\n",
      " (242, 0.010607122563135958),\n",
      " (243, 0.046408482729899336),\n",
      " (244, 0.02922744961413763),\n",
      " (245, 0.030768572378332845),\n",
      " (246, 0.048192336283465344),\n",
      " (247, 0.019880660423575006),\n",
      " (248, 0.06441353819295799),\n",
      " (249, 0.023809122481582064),\n",
      " (250, 0.006764764373203047),\n",
      " (251, 0.038591106259375105),\n",
      " (252, 0.04209691506643225),\n",
      " (253, 0.023983421155676716),\n",
      " (254, 0.0244371574283375),\n",
      " (255, 0.013895326886996368),\n",
      " (256, 0.08593831016328883),\n",
      " (257, 0.02867005400760015),\n",
      " (258, 0.05466367153442326),\n",
      " (259, 0.00519934780737308),\n",
      " (260, 0.02854814897115132),\n",
      " (261, 0.0313942666561224),\n",
      " (262, 0.0389720725531204)]\n"
     ]
    }
   ],
   "source": [
    "#Preview TF-IDF scores for our first document --> --> (token_id, tfidf score)\n",
    "from pprint import pprint\n",
    "\n",
    "for i in corpus_tfidf:\n",
    "    pprint(i)\n",
    "    break"
   ]
  },
  {
   "cell_type": "markdown",
   "metadata": {},
   "source": [
    "## Step 4.1: Running LDA using Bag of Words ##\n",
    "\n",
    "We are going for 10 topics in the document corpus.\n",
    "\n",
    "** We will be running LDA using all CPU cores to parallelize and speed up model training.**\n",
    "\n",
    "Some of the parameters we will be tweaking are:\n",
    "\n",
    "* **num_topics** is the number of requested latent topics to be extracted from the training corpus.\n",
    "* **id2word** is a mapping from word ids (integers) to words (strings). It is used to determine the vocabulary size, as well as for debugging and topic printing.\n",
    "* **workers** is the number of extra processes to use for parallelization. Uses all available cores by default.\n",
    "* **alpha** and **eta** are hyperparameters that affect sparsity of the document-topic (theta) and topic-word (lambda) distributions. We will let these be the default values for now(default value is `1/num_topics`)\n",
    "    - Alpha is the per document topic distribution.\n",
    "        * High alpha: Every document has a mixture of all topics(documents appear similar to each other).\n",
    "        * Low alpha: Every document has a mixture of very few topics\n",
    "\n",
    "    - Eta is the per topic word distribution.\n",
    "        * High eta: Each topic has a mixture of most words(topics appear similar to each other).\n",
    "        * Low eta: Each topic has a mixture of few words.\n",
    "\n",
    "* ** passes ** is the number of training passes through the corpus. For  example, if the training corpus has 50,000 documents, chunksize is  10,000, passes is 2, then online training is done in 10 updates: \n",
    "    * `#1 documents 0-9,999 `\n",
    "    * `#2 documents 10,000-19,999 `\n",
    "    * `#3 documents 20,000-29,999 `\n",
    "    * `#4 documents 30,000-39,999 `\n",
    "    * `#5 documents 40,000-49,999 `\n",
    "    * `#6 documents 0-9,999 `\n",
    "    * `#7 documents 10,000-19,999 `\n",
    "    * `#8 documents 20,000-29,999 `\n",
    "    * `#9 documents 30,000-39,999 `\n",
    "    * `#10 documents 40,000-49,999` "
   ]
  },
  {
   "cell_type": "code",
   "execution_count": 153,
   "metadata": {},
   "outputs": [],
   "source": [
    "# Train lda model using gensim.models.LdaMulticore and save it to 'lda_model'\n",
    "lda_model = gensim.models.LdaMulticore(bow_corpus,\n",
    "                                       num_topics=10,\n",
    "                                       id2word = dictionary,\n",
    "                                       passes = 2, # extra parameter for LDA multicore\n",
    "                                       workers=2 # extra parameter for LDA multicore \n",
    "                                      )"
   ]
  },
  {
   "cell_type": "code",
   "execution_count": 154,
   "metadata": {},
   "outputs": [
    {
     "name": "stdout",
     "output_type": "stream",
     "text": [
      "Topic: 0 \n",
      "Words: 0.014*\"team\" + 0.013*\"technical\" + 0.012*\"experience\" + 0.012*\"skills\" + 0.012*\"data\" + 0.010*\"cloud\" + 0.010*\"customer\" + 0.010*\"learn\" + 0.010*\"solutions\" + 0.009*\"development\"\n",
      "\n",
      "\n",
      "Topic: 1 \n",
      "Words: 0.024*\"work\" + 0.022*\"client\" + 0.018*\"watson\" + 0.015*\"business\" + 0.014*\"experience\" + 0.014*\"team\" + 0.013*\"clients\" + 0.013*\"service\" + 0.012*\"company\" + 0.011*\"role\"\n",
      "\n",
      "\n",
      "Topic: 2 \n",
      "Words: 0.025*\"sales\" + 0.016*\"account\" + 0.016*\"investment\" + 0.012*\"customer\" + 0.011*\"business\" + 0.009*\"manage\" + 0.009*\"team\" + 0.009*\"company\" + 0.008*\"provide\" + 0.008*\"solution\"\n",
      "\n",
      "\n",
      "Topic: 3 \n",
      "Words: 0.021*\"data\" + 0.015*\"develop\" + 0.013*\"work\" + 0.012*\"team\" + 0.011*\"support\" + 0.010*\"management\" + 0.010*\"skills\" + 0.010*\"investment\" + 0.010*\"market\" + 0.010*\"willis\"\n",
      "\n",
      "\n",
      "Topic: 4 \n",
      "Words: 0.019*\"work\" + 0.016*\"team\" + 0.012*\"experience\" + 0.012*\"management\" + 0.011*\"service\" + 0.009*\"legal\" + 0.009*\"role\" + 0.008*\"tech\" + 0.008*\"technology\" + 0.008*\"firm\"\n",
      "\n",
      "\n",
      "Topic: 5 \n",
      "Words: 0.028*\"school\" + 0.017*\"students\" + 0.016*\"learn\" + 0.015*\"program\" + 0.011*\"work\" + 0.010*\"staff\" + 0.009*\"teach\" + 0.008*\"provide\" + 0.007*\"support\" + 0.007*\"student\"\n",
      "\n",
      "\n",
      "Topic: 6 \n",
      "Words: 0.018*\"experience\" + 0.014*\"customer\" + 0.014*\"sales\" + 0.013*\"support\" + 0.012*\"management\" + 0.012*\"work\" + 0.012*\"software\" + 0.012*\"business\" + 0.012*\"technical\" + 0.011*\"team\"\n",
      "\n",
      "\n",
      "Topic: 7 \n",
      "Words: 0.026*\"data\" + 0.021*\"work\" + 0.017*\"experience\" + 0.017*\"team\" + 0.012*\"business\" + 0.010*\"solutions\" + 0.009*\"skills\" + 0.008*\"build\" + 0.008*\"design\" + 0.008*\"process\"\n",
      "\n",
      "\n",
      "Topic: 8 \n",
      "Words: 0.029*\"analytics\" + 0.017*\"data\" + 0.015*\"work\" + 0.014*\"experience\" + 0.014*\"drive\" + 0.010*\"help\" + 0.010*\"learn\" + 0.009*\"service\" + 0.009*\"team\" + 0.008*\"research\"\n",
      "\n",
      "\n",
      "Topic: 9 \n",
      "Words: 0.029*\"experience\" + 0.025*\"project\" + 0.020*\"service\" + 0.019*\"engineer\" + 0.018*\"network\" + 0.015*\"client\" + 0.015*\"work\" + 0.015*\"role\" + 0.015*\"security\" + 0.013*\"sales\"\n",
      "\n",
      "\n"
     ]
    }
   ],
   "source": [
    "# For each topic, we will explore the words occuring in that topic and its relative weight\n",
    "for idx, topic in lda_model.print_topics(-1):\n",
    "    print(\"Topic: {} \\nWords: {}\".format(idx, topic))\n",
    "    print(\"\\n\")"
   ]
  },
  {
   "cell_type": "markdown",
   "metadata": {},
   "source": [
    "### Classification of the topics ###\n",
    "\n",
    "Using the words in each topic and their corresponding weights, what categories were you able to infer?\n",
    "\n",
    "* 0: \n",
    "* 1: \n",
    "* 2: \n",
    "* 3: \n",
    "* 4: \n",
    "* 5: \n",
    "* 6: \n",
    "* 7:  \n",
    "* 8: \n",
    "* 9: "
   ]
  },
  {
   "cell_type": "markdown",
   "metadata": {},
   "source": [
    "## Step 4.2 Running LDA using TF-IDF ##"
   ]
  },
  {
   "cell_type": "code",
   "execution_count": 155,
   "metadata": {},
   "outputs": [],
   "source": [
    "# Define lda model using corpus_tfidf\n",
    "lda_model_tfidf = gensim.models.LdaMulticore(corpus_tfidf, \n",
    "                                             num_topics=10, \n",
    "                                             id2word = dictionary, \n",
    "                                             passes = 2, \n",
    "                                             workers=4)"
   ]
  },
  {
   "cell_type": "code",
   "execution_count": 156,
   "metadata": {},
   "outputs": [
    {
     "name": "stdout",
     "output_type": "stream",
     "text": [
      "Topic: 0 Word: 0.008*\"manufacture\" + 0.005*\"mechanical\" + 0.005*\"estimator\" + 0.005*\"linkedin\" + 0.005*\"major\" + 0.005*\"sukanya\" + 0.005*\"civil\" + 0.005*\"devops\" + 0.004*\"design\" + 0.004*\"maximo\"\n",
      "\n",
      "\n",
      "Topic: 1 Word: 0.007*\"school\" + 0.006*\"dimensional\" + 0.006*\"institutional\" + 0.005*\"water\" + 0.005*\"financial\" + 0.005*\"risk\" + 0.004*\"investment\" + 0.004*\"oversight\" + 0.004*\"departments\" + 0.004*\"philosophy\"\n",
      "\n",
      "\n",
      "Topic: 2 Word: 0.008*\"sales\" + 0.006*\"zendesk\" + 0.006*\"organize\" + 0.006*\"account\" + 0.006*\"manager\" + 0.006*\"telstra\" + 0.005*\"contact\" + 0.005*\"manner\" + 0.004*\"mercer\" + 0.004*\"customer\"\n",
      "\n",
      "\n",
      "Topic: 3 Word: 0.007*\"deloitte\" + 0.007*\"linear\" + 0.006*\"legal\" + 0.004*\"advisory\" + 0.004*\"array\" + 0.004*\"firm\" + 0.004*\"statistical\" + 0.004*\"discount\" + 0.004*\"lenovo\" + 0.004*\"apprehension\"\n",
      "\n",
      "\n",
      "Topic: 4 Word: 0.013*\"investment\" + 0.008*\"watson\" + 0.004*\"developers\" + 0.003*\"institutional\" + 0.003*\"specific\" + 0.003*\"fund\" + 0.003*\"component\" + 0.003*\"graduate\" + 0.003*\"solution\" + 0.003*\"employment\"\n",
      "\n",
      "\n",
      "Topic: 5 Word: 0.010*\"analytics\" + 0.010*\"accenture\" + 0.009*\"research\" + 0.007*\"maturity\" + 0.005*\"advancements\" + 0.005*\"security\" + 0.004*\"statistics\" + 0.004*\"wireless\" + 0.004*\"implementation\" + 0.004*\"stelarlab\"\n",
      "\n",
      "\n",
      "Topic: 6 Word: 0.016*\"directors\" + 0.005*\"commercial\" + 0.005*\"procedural\" + 0.004*\"cloud\" + 0.004*\"palo\" + 0.004*\"alto\" + 0.004*\"deploy\" + 0.004*\"troubleshoot\" + 0.004*\"balance\" + 0.003*\"stats\"\n",
      "\n",
      "\n",
      "Topic: 7 Word: 0.012*\"capgemini\" + 0.008*\"certification\" + 0.008*\"security\" + 0.007*\"network\" + 0.007*\"actuarial\" + 0.007*\"consultant\" + 0.006*\"cloud\" + 0.005*\"virtual\" + 0.005*\"infrastructure\" + 0.005*\"project\"\n",
      "\n",
      "\n",
      "Topic: 8 Word: 0.011*\"liveperson\" + 0.006*\"trade\" + 0.006*\"consult\" + 0.005*\"variety\" + 0.005*\"firm\" + 0.005*\"latency\" + 0.005*\"telephony\" + 0.005*\"consultants\" + 0.005*\"curious\" + 0.005*\"java\"\n",
      "\n",
      "\n",
      "Topic: 9 Word: 0.020*\"tower\" + 0.020*\"willis\" + 0.013*\"iqvia\" + 0.008*\"healthcare\" + 0.007*\"deloitte\" + 0.006*\"data\" + 0.006*\"analyst\" + 0.006*\"watson\" + 0.006*\"analytics\" + 0.005*\"optimise\"\n",
      "\n",
      "\n"
     ]
    }
   ],
   "source": [
    "# Exploring the words occuring in each topic and its relative weight\n",
    "for idx, topic in lda_model_tfidf.print_topics(-1):\n",
    "    print(\"Topic: {} Word: {}\".format(idx, topic))\n",
    "    print(\"\\n\")"
   ]
  },
  {
   "cell_type": "markdown",
   "metadata": {},
   "source": [
    "### Classification of the topics ###\n",
    "\n",
    "As we can see, when using tf-idf, heavier weights are given to words that are not as frequent which results in nouns being factored in. That makes it harder to figure out the categories as nouns can be hard to categorize. This goes to show that the models we apply depend on the type of corpus of text we are dealing with. \n",
    "\n",
    "Using the words in each topic and their corresponding weights, what categories could you find?\n",
    "\n",
    "* 0: \n",
    "* 1:  \n",
    "* 2: \n",
    "* 3: \n",
    "* 4:  \n",
    "* 5: \n",
    "* 6: \n",
    "* 7: \n",
    "* 8: \n",
    "* 9: "
   ]
  },
  {
   "cell_type": "markdown",
   "metadata": {},
   "source": [
    "## Step 5.1: Performance evaluation by classifying sample document using LDA Bag of Words model##\n",
    "\n",
    "We will check to see where our test document would be classified. "
   ]
  },
  {
   "cell_type": "code",
   "execution_count": 157,
   "metadata": {},
   "outputs": [
    {
     "data": {
      "text/plain": [
       "['federal',\n",
       " 'government',\n",
       " 'baseline',\n",
       " 'prefer',\n",
       " 'asap',\n",
       " 'start',\n",
       " 'hadoop',\n",
       " 'teradata',\n",
       " 'shiny',\n",
       " 'look',\n",
       " 'creative',\n",
       " 'innovative',\n",
       " 'intellectually',\n",
       " 'curious',\n",
       " 'entrepreneurial',\n",
       " 'data',\n",
       " 'scientist',\n",
       " 'join',\n",
       " 'analytics',\n",
       " 'team',\n",
       " 'federal',\n",
       " 'government',\n",
       " 'agency',\n",
       " 'identify',\n",
       " 'valuable',\n",
       " 'data',\n",
       " 'source',\n",
       " 'automate',\n",
       " 'collection',\n",
       " 'process',\n",
       " 'undertake',\n",
       " 'process',\n",
       " 'structure',\n",
       " 'unstructured',\n",
       " 'data',\n",
       " 'analyse',\n",
       " 'large',\n",
       " 'amount',\n",
       " 'information',\n",
       " 'discover',\n",
       " 'trend',\n",
       " 'pattern',\n",
       " 'build',\n",
       " 'predictive',\n",
       " 'model',\n",
       " 'machine',\n",
       " 'learn',\n",
       " 'algorithms',\n",
       " 'combine',\n",
       " 'model',\n",
       " 'ensemble',\n",
       " 'model',\n",
       " 'present',\n",
       " 'information',\n",
       " 'data',\n",
       " 'visualization',\n",
       " 'techniques',\n",
       " 'propose',\n",
       " 'solutions',\n",
       " 'strategies',\n",
       " 'business',\n",
       " 'challenge',\n",
       " 'collaborate',\n",
       " 'engineer',\n",
       " 'product',\n",
       " 'development',\n",
       " 'team',\n",
       " 'experience',\n",
       " 'require',\n",
       " 'experience',\n",
       " 'statistical',\n",
       " 'machine',\n",
       " 'learn',\n",
       " 'project',\n",
       " 'commercial',\n",
       " 'experience',\n",
       " 'data',\n",
       " 'science',\n",
       " 'principles',\n",
       " 'possess',\n",
       " 'strong',\n",
       " 'statistical',\n",
       " 'model',\n",
       " 'skills',\n",
       " 'able',\n",
       " 'synthesise',\n",
       " 'data',\n",
       " 'minimum',\n",
       " 'years',\n",
       " 'experience',\n",
       " 'hadoop',\n",
       " 'spark',\n",
       " 'python',\n",
       " 'desire',\n",
       " 'enhance',\n",
       " 'exist',\n",
       " 'skills',\n",
       " 'areas',\n",
       " 'machine',\n",
       " 'learn',\n",
       " 'quantitative',\n",
       " 'decision',\n",
       " 'make',\n",
       " 'strong',\n",
       " 'confident',\n",
       " 'communicator',\n",
       " 'simplify',\n",
       " 'complex',\n",
       " 'model',\n",
       " 'stakeholders',\n",
       " 'motivation',\n",
       " 'continually',\n",
       " 'learn',\n",
       " 'skills',\n",
       " 'personal',\n",
       " 'advantage',\n",
       " 'value',\n",
       " 'company',\n",
       " 'work',\n",
       " 'collaboratively',\n",
       " 'efficiently',\n",
       " 'tight',\n",
       " 'knit',\n",
       " 'team']"
      ]
     },
     "execution_count": 157,
     "metadata": {},
     "output_type": "execute_result"
    }
   ],
   "source": [
    "# Text of sample document 3\n",
    "processed_docs[3]"
   ]
  },
  {
   "cell_type": "code",
   "execution_count": 158,
   "metadata": {},
   "outputs": [
    {
     "name": "stdout",
     "output_type": "stream",
     "text": [
      "\n",
      "Score: 0.6753913760185242\t \n",
      "Topic: 0.026*\"data\" + 0.021*\"work\" + 0.017*\"experience\" + 0.017*\"team\" + 0.012*\"business\" + 0.010*\"solutions\" + 0.009*\"skills\" + 0.008*\"build\" + 0.008*\"design\" + 0.008*\"process\"\n",
      "\n",
      "Score: 0.11879268288612366\t \n",
      "Topic: 0.014*\"team\" + 0.013*\"technical\" + 0.012*\"experience\" + 0.012*\"skills\" + 0.012*\"data\" + 0.010*\"cloud\" + 0.010*\"customer\" + 0.010*\"learn\" + 0.010*\"solutions\" + 0.009*\"development\"\n",
      "\n",
      "Score: 0.11593401432037354\t \n",
      "Topic: 0.019*\"work\" + 0.016*\"team\" + 0.012*\"experience\" + 0.012*\"management\" + 0.011*\"service\" + 0.009*\"legal\" + 0.009*\"role\" + 0.008*\"tech\" + 0.008*\"technology\" + 0.008*\"firm\"\n",
      "\n",
      "Score: 0.055896494537591934\t \n",
      "Topic: 0.018*\"experience\" + 0.014*\"customer\" + 0.014*\"sales\" + 0.013*\"support\" + 0.012*\"management\" + 0.012*\"work\" + 0.012*\"software\" + 0.012*\"business\" + 0.012*\"technical\" + 0.011*\"team\"\n",
      "\n",
      "Score: 0.02997143380343914\t \n",
      "Topic: 0.029*\"analytics\" + 0.017*\"data\" + 0.015*\"work\" + 0.014*\"experience\" + 0.014*\"drive\" + 0.010*\"help\" + 0.010*\"learn\" + 0.009*\"service\" + 0.009*\"team\" + 0.008*\"research\"\n"
     ]
    }
   ],
   "source": [
    "# Check which topic our test document belongs to using the LDA Bag of Words model.\n",
    "\n",
    "# document_num is 3 because our test document is document 3\n",
    "for index, score in sorted(lda_model[bow_corpus[document_num]], key=lambda tup: -1*tup[1]):\n",
    "    print(\"\\nScore: {}\\t \\nTopic: {}\".format(score, lda_model.print_topic(index, 10)))"
   ]
  },
  {
   "cell_type": "markdown",
   "metadata": {},
   "source": [
    "### It has the highest probability (`x`) to be  part of the topic that we assigned as X, which is the accurate classification. ###"
   ]
  },
  {
   "cell_type": "markdown",
   "metadata": {},
   "source": [
    "## Step 5.2: Performance evaluation by classifying sample document using LDA TF-IDF model##"
   ]
  },
  {
   "cell_type": "code",
   "execution_count": 159,
   "metadata": {},
   "outputs": [
    {
     "name": "stdout",
     "output_type": "stream",
     "text": [
      "\n",
      "Score: 0.4450368881225586\t \n",
      "Topic: 0.010*\"analytics\" + 0.010*\"accenture\" + 0.009*\"research\" + 0.007*\"maturity\" + 0.005*\"advancements\" + 0.005*\"security\" + 0.004*\"statistics\" + 0.004*\"wireless\" + 0.004*\"implementation\" + 0.004*\"stelarlab\"\n",
      "\n",
      "Score: 0.23393133282661438\t \n",
      "Topic: 0.020*\"tower\" + 0.020*\"willis\" + 0.013*\"iqvia\" + 0.008*\"healthcare\" + 0.007*\"deloitte\" + 0.006*\"data\" + 0.006*\"analyst\" + 0.006*\"watson\" + 0.006*\"analytics\" + 0.005*\"optimise\"\n",
      "\n",
      "Score: 0.1604917347431183\t \n",
      "Topic: 0.013*\"investment\" + 0.008*\"watson\" + 0.004*\"developers\" + 0.003*\"institutional\" + 0.003*\"specific\" + 0.003*\"fund\" + 0.003*\"component\" + 0.003*\"graduate\" + 0.003*\"solution\" + 0.003*\"employment\"\n",
      "\n",
      "Score: 0.09476153552532196\t \n",
      "Topic: 0.008*\"manufacture\" + 0.005*\"mechanical\" + 0.005*\"estimator\" + 0.005*\"linkedin\" + 0.005*\"major\" + 0.005*\"sukanya\" + 0.005*\"civil\" + 0.005*\"devops\" + 0.004*\"design\" + 0.004*\"maximo\"\n",
      "\n",
      "Score: 0.06177525967359543\t \n",
      "Topic: 0.011*\"liveperson\" + 0.006*\"trade\" + 0.006*\"consult\" + 0.005*\"variety\" + 0.005*\"firm\" + 0.005*\"latency\" + 0.005*\"telephony\" + 0.005*\"consultants\" + 0.005*\"curious\" + 0.005*\"java\"\n"
     ]
    }
   ],
   "source": [
    "# Check which topic our test document belongs to using the LDA TF-IDF model.\n",
    "\n",
    "for index, score in sorted(lda_model_tfidf[bow_corpus[document_num]], key=lambda tup: -1*tup[1]):\n",
    "    print(\"\\nScore: {}\\t \\nTopic: {}\".format(score, lda_model_tfidf.print_topic(index, 10)))"
   ]
  },
  {
   "cell_type": "markdown",
   "metadata": {},
   "source": [
    "### It has the highest probability (`x%`) to be  part of the topic that we assigned as X. ###"
   ]
  },
  {
   "cell_type": "markdown",
   "metadata": {},
   "source": [
    "## Step 6: Testing model on unseen document ##"
   ]
  },
  {
   "cell_type": "code",
   "execution_count": 160,
   "metadata": {},
   "outputs": [
    {
     "name": "stdout",
     "output_type": "stream",
     "text": [
      "Score: 0.468237966299057\t Topic: 0.026*\"data\" + 0.021*\"work\" + 0.017*\"experience\" + 0.017*\"team\" + 0.012*\"business\"\n",
      "Score: 0.3150328993797302\t Topic: 0.019*\"work\" + 0.016*\"team\" + 0.012*\"experience\" + 0.012*\"management\" + 0.011*\"service\"\n",
      "Score: 0.14670851826667786\t Topic: 0.029*\"experience\" + 0.025*\"project\" + 0.020*\"service\" + 0.019*\"engineer\" + 0.018*\"network\"\n",
      "Score: 0.010003920644521713\t Topic: 0.021*\"data\" + 0.015*\"develop\" + 0.013*\"work\" + 0.012*\"team\" + 0.011*\"support\"\n",
      "Score: 0.010003841482102871\t Topic: 0.029*\"analytics\" + 0.017*\"data\" + 0.015*\"work\" + 0.014*\"experience\" + 0.014*\"drive\"\n",
      "Score: 0.010003740899264812\t Topic: 0.024*\"work\" + 0.022*\"client\" + 0.018*\"watson\" + 0.015*\"business\" + 0.014*\"experience\"\n",
      "Score: 0.01000288501381874\t Topic: 0.025*\"sales\" + 0.016*\"account\" + 0.016*\"investment\" + 0.012*\"customer\" + 0.011*\"business\"\n",
      "Score: 0.01000240258872509\t Topic: 0.014*\"team\" + 0.013*\"technical\" + 0.012*\"experience\" + 0.012*\"skills\" + 0.012*\"data\"\n",
      "Score: 0.010002021677792072\t Topic: 0.018*\"experience\" + 0.014*\"customer\" + 0.014*\"sales\" + 0.013*\"support\" + 0.012*\"management\"\n",
      "Score: 0.010001816786825657\t Topic: 0.028*\"school\" + 0.017*\"students\" + 0.016*\"learn\" + 0.015*\"program\" + 0.011*\"work\"\n"
     ]
    }
   ],
   "source": [
    "unseen_document = \"Senior financial consultant, Melbourne/Sydney, quantitative modelling risk management.\"\n",
    "\n",
    "# Data preprocessing step for the unseen document\n",
    "bow_vector = dictionary.doc2bow(preprocess(unseen_document))\n",
    "\n",
    "for index, score in sorted(lda_model[bow_vector], key=lambda tup: -1*tup[1]):\n",
    "    print(\"Score: {}\\t Topic: {}\".format(score, lda_model.print_topic(index, 5)))"
   ]
  },
  {
   "cell_type": "markdown",
   "metadata": {},
   "source": [
    "The model correctly classifies the unseen document with 'x'% probability to the X category."
   ]
  }
 ],
 "metadata": {
  "kernelspec": {
   "display_name": "Python [conda env:root] *",
   "language": "python",
   "name": "conda-root-py"
  },
  "language_info": {
   "codemirror_mode": {
    "name": "ipython",
    "version": 3
   },
   "file_extension": ".py",
   "mimetype": "text/x-python",
   "name": "python",
   "nbconvert_exporter": "python",
   "pygments_lexer": "ipython3",
   "version": "3.7.3"
  }
 },
 "nbformat": 4,
 "nbformat_minor": 2
}
